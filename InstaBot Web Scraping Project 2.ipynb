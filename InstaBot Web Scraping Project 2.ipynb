{
 "cells": [
  {
   "cell_type": "markdown",
   "metadata": {},
   "source": [
    "# InstaBot - Part 2\n"
   ]
  },
  {
   "cell_type": "code",
   "execution_count": 66,
   "metadata": {},
   "outputs": [],
   "source": [
    "from selenium import webdriver\n",
    "from selenium.webdriver.common.by import By\n",
    "from selenium.webdriver.support.ui import WebDriverWait\n",
    "from selenium.webdriver.support import expected_conditions as EC\n",
    "import time\n",
    "from selenium.webdriver.chrome.options import Options\n",
    "from bs4 import BeautifulSoup\n",
    "import matplotlib.pyplot as plt\n",
    "import numpy as np\n",
    "import pandas as pd\n",
    "from datetime import datetime\n",
    "import re\n",
    "from nltk import FreqDist\n",
    "import operator\n",
    "from selenium.common.exceptions import NoSuchElementException"
   ]
  },
  {
   "cell_type": "markdown",
   "metadata": {},
   "source": [
    "## 1. Now your friend has followed a lot of different food bloggers, he needs to analyse the habits of these bloggers"
   ]
  },
  {
   "cell_type": "code",
   "execution_count": 104,
   "metadata": {},
   "outputs": [],
   "source": [
    "# Login to Instagram Handle\n",
    "driver = webdriver.Chrome(executable_path = 'chromedriver')\n",
    "driver.get('https://www.instagram.com/')\n",
    "wait = WebDriverWait(driver, 10)\n",
    "username = wait.until(EC.presence_of_element_located((By.NAME,'username')))  \n",
    "username.send_keys(\"SAMPLE USERNAME\")\n",
    "password = wait.until(EC.presence_of_element_located((By.NAME,'password'))) \n",
    "password.send_keys(\"SAMPLE PASSWORD\")\n",
    "submit_btn = driver.find_element_by_tag_name(\"button\")                    \n",
    "submit_btn.submit()\n",
    "time.sleep(5)"
   ]
  },
  {
   "cell_type": "markdown",
   "metadata": {},
   "source": [
    "### a). From the list of instagram handles you obtained when you searched ‘food’ in previous project. Open the first 10 handles and find the top 5 which have the highest number of followers\n"
   ]
  },
  {
   "cell_type": "code",
   "execution_count": 68,
   "metadata": {},
   "outputs": [],
   "source": [
    "def text_box(search_this):\n",
    "    try:\n",
    "        driver.maximize_window()\n",
    "        text_box = driver.find_element_by_class_name('x3qfX')   # locate search box\n",
    "        text_box.clear()                                        # Clear search box\n",
    "        text_box.send_keys(search_this)# Send keys\n",
    "    except NoSuchElementException:\n",
    "        pass\n",
    "def food_handles() :\n",
    "    try:\n",
    "        text_box('food') \n",
    "        time.sleep(4)\n",
    "        l = driver.find_elements_by_class_name('yCE8d') \n",
    "        h = []\n",
    "        handles= []\n",
    "        for i in l:\n",
    "            if ('locations' not in i.get_attribute('href'))  and ('tags' not in i.get_attribute('href')) :\n",
    "                h.append(i)\n",
    "        for j in h :\n",
    "            handles.append(j.find_element_by_xpath('div/div[2]/div/span').text)\n",
    "    except NoSuchElementException:\n",
    "        pass\n",
    "    return handles\n",
    "handle_name = food_handles()[:11]\n",
    "followers = []\n",
    "for i in handle_name:\n",
    "    try:\n",
    "        text_box(i)           # Search handle\n",
    "        h = wait.until(EC.presence_of_element_located((By.CLASS_NAME,'z556c'))) \n",
    "        h.click()\n",
    "        time.sleep(3)\n",
    "        x = driver.find_element_by_partial_link_text(\"followers\")\n",
    "        time.sleep(2)\n",
    "        followers.append(x.text)\n",
    "    except NoSuchElementException:\n",
    "        pass\n"
   ]
  },
  {
   "cell_type": "code",
   "execution_count": 69,
   "metadata": {},
   "outputs": [],
   "source": [
    "d = {}\n",
    "for i in range(10):\n",
    "    d[handle_name[i]] = followers[i]"
   ]
  },
  {
   "cell_type": "code",
   "execution_count": 70,
   "metadata": {},
   "outputs": [
    {
     "name": "stdout",
     "output_type": "stream",
     "text": [
      "Food Handles with Top 5 Number of Followers:\n",
      "\n",
      "yourfoodlab 1300000.0\n",
      "foodfoodtv 246000.0\n",
      "food_lunatic 92600.0\n",
      "foodfoododo 27400.0\n",
      "foodiebliss09 16300.0\n"
     ]
    }
   ],
   "source": [
    "# removing the word 'followers' from handle_name\n",
    "for i in d:\n",
    "    d[i] = d[i].split(' ')\n",
    "    d[i] = d[i][0]\n",
    "\n",
    "#converting from string to float\n",
    "for i in d:\n",
    "    if 'm' in d[i]:\n",
    "        y = float(d[i][:-1])\n",
    "        d[i] = y*(10**6)\n",
    "    elif 'k' in d[i]:\n",
    "        y = float(d[i][:-1])\n",
    "        d[i] = y*(10**3)\n",
    "    elif ',' in d[i]:\n",
    "        d[i] = float(d[i].replace(',' , ''))\n",
    "    else:\n",
    "        d[i]=float(d[i])\n",
    "        \n",
    "#SORTING\n",
    "top5 = sorted(d.items(), key=lambda kv:kv[1], reverse=True)[:5]\n",
    "handles = []\n",
    "followers = []\n",
    "\n",
    "print('Food Handles with Top 5 Number of Followers:\\n')\n",
    "for i in top5:\n",
    "    print(i[0], i[1])\n",
    "    handles.append(i[0])\n",
    "    followers.append(i[1])"
   ]
  },
  {
   "cell_type": "code",
   "execution_count": 71,
   "metadata": {},
   "outputs": [],
   "source": [
    "wait = WebDriverWait(driver,20)"
   ]
  },
  {
   "cell_type": "code",
   "execution_count": 72,
   "metadata": {},
   "outputs": [],
   "source": [
    "from selenium.common.exceptions import NoSuchElementException\n",
    "from selenium.common.exceptions import StaleElementReferenceException\n",
    "from selenium.common.exceptions import TimeoutException\n",
    "from selenium.webdriver.support.ui import WebDriverWait\n",
    "from selenium.webdriver.support import expected_conditions as EC\n",
    "from selenium.webdriver.common.by import By\n",
    "from selenium.webdriver.support.select import Select"
   ]
  },
  {
   "cell_type": "markdown",
   "metadata": {},
   "source": [
    "### b). Now Find the number of posts these handles have done in the previous 3 days."
   ]
  },
  {
   "cell_type": "code",
   "execution_count": 73,
   "metadata": {},
   "outputs": [],
   "source": [
    "def Post_count(insta_handles) :\n",
    "    d = {} \n",
    "    #cCounting Number of posts in past 3 days\n",
    "    for i in insta_handles :\n",
    "        driver.get('https://www.instagram.com/' +str(i)+'/') # visiting the most popular 5 handles\n",
    "        time.sleep(3)\n",
    "        posts = driver.find_elements_by_class_name('v1Nh3') # finding all posts on page\n",
    "        count = 0\n",
    "        posts[0].click() # clicking on first post\n",
    "        while True : \n",
    "            try :\n",
    "                time.sleep(3)\n",
    "                upload_time = driver.find_element_by_class_name('_1o9PC').text.split(\" \") # extracting text of time\n",
    "                if (upload_time[1] == 'HOURS' or upload_time[1] == 'HOUR' or upload_time[1] == 'MINUTES') : # checking condns\n",
    "                    count += 1\n",
    "                elif (int(upload_time[0]) < 3) : # if > 3 days then break\n",
    "                    count += 1\n",
    "                else :\n",
    "                    break\n",
    "                next_button = driver.find_element_by_class_name('_65Bje') # clicking on next button to go to next post\n",
    "                next_button.click()\n",
    "            except ValueError :\n",
    "                    break\n",
    "        d[i] = count # updating dictionary\n",
    "    return d\n",
    "\n",
    "no_of_post={}\n",
    "cnt = [] \n",
    "for handle in top_5_blog:\n",
    "    a = driver.find_element_by_xpath('//input[contains(@class,\"XTCLo\")]')   #input box \n",
    "    a.send_keys(handle)                                                         #send hadles to search box\n",
    "    # b = wait.until(EC.presence_of_element_located((By.CLASS_NAME,'z556c')))          #first profile\n",
    "    time.sleep(2)\n",
    "    handles = driver.find_element_by_xpath('//a[@class = \"-qQT3\"]') # fetching handles \n",
    "    handles.click() # clicking on handle\n",
    "    a = driver.find_element_by_xpath('//input[contains(@class,\"XTCLo\")]')  #clearing input box\n",
    "    a.clear()\n",
    "    \n",
    "    i = 0\n",
    "    \n",
    "    \n",
    "    for i in range(7):\n",
    "        driver.execute_script('window.scrollBy(0,document.body.scrollHeight);')              \n",
    "        #scrolling 7 time down\n",
    "        time.sleep(1)\n",
    "    data = driver.find_elements_by_class_name(\"v1Nh3\") y"
   ]
  },
  {
   "cell_type": "code",
   "execution_count": 74,
   "metadata": {},
   "outputs": [],
   "source": [
    "d = Post_count(handles)"
   ]
  },
  {
   "cell_type": "code",
   "execution_count": 75,
   "metadata": {},
   "outputs": [
    {
     "name": "stdout",
     "output_type": "stream",
     "text": [
      "Food Handle Name : Number of posts in previous 3 days\n",
      "yourfoodlab : 5\n",
      "foodfoodtv : 3\n",
      "food_lunatic : 5\n",
      "foodfoododo : 7\n",
      "foodiebliss09 : 2\n"
     ]
    }
   ],
   "source": [
    "print('Food Handle Name', ':', 'Number of posts in previous 3 days')\n",
    "for j in d :\n",
    "    print(j,':', d[j])"
   ]
  },
  {
   "cell_type": "code",
   "execution_count": 76,
   "metadata": {},
   "outputs": [
    {
     "data": {
      "text/plain": [
       "['yourfoodlab', 'foodfoodtv', 'food_lunatic', 'foodfoododo', 'foodiebliss09']"
      ]
     },
     "execution_count": 76,
     "metadata": {},
     "output_type": "execute_result"
    }
   ],
   "source": [
    "handles"
   ]
  },
  {
   "cell_type": "code",
   "execution_count": 90,
   "metadata": {},
   "outputs": [
    {
     "data": {
      "text/plain": [
       "[1300000.0, 246000.0, 92600.0, 27400.0, 16300.0]"
      ]
     },
     "execution_count": 90,
     "metadata": {},
     "output_type": "execute_result"
    }
   ],
   "source": [
    "followers"
   ]
  },
  {
   "cell_type": "markdown",
   "metadata": {},
   "source": [
    "### c). Depict this information using a suitable graph.\n"
   ]
  },
  {
   "cell_type": "code",
   "execution_count": 77,
   "metadata": {},
   "outputs": [
    {
     "name": "stdout",
     "output_type": "stream",
     "text": [
      "dict_keys(['yourfoodlab', 'foodfoodtv', 'food_lunatic', 'foodfoododo', 'foodiebliss09'])\n"
     ]
    },
    {
     "data": {
      "image/png": "[encoded data removed]",
      "text/plain": [
       "<Figure size 800x500 with 1 Axes>"
      ]
     },
     "metadata": {},
     "output_type": "display_data"
    }
   ],
   "source": [
    "page_name = d.keys() # extracting name of handles\n",
    "count = d.values() # number of posts in previous 3 days\n",
    "print(page_name)\n",
    "\n",
    "plt.figure(num=None, figsize=(8, 5), dpi=100, facecolor='w', edgecolor='green')\n",
    "plt.bar(page_name, count, color = 'orange', edgecolor = 'black')\n",
    "plt.title('Top 5 Food Insta Handles vs. Number of posts in past 3 days')\n",
    "plt.xlabel('Food Instagram Handle Names', size = 12)\n",
    "plt.ylabel('Number Of Posts', size = 12)\n",
    "plt.xticks(rotation = 45)\n",
    "plt.show()"
   ]
  },
  {
   "cell_type": "markdown",
   "metadata": {},
   "source": [
    "## 2. Your friend also needs a list of hashtags that he should use in his posts.\n",
    "1. Open the 5 handles you obtained in the last question, and scrape the content of the first 10 posts of each handle.\n"
   ]
  },
  {
   "cell_type": "code",
   "execution_count": 78,
   "metadata": {},
   "outputs": [],
   "source": [
    "posts = {} # a dictionary with keys corresponding to profiles with value as a list, each item contains a post as a string\n",
    "\n",
    "for i in handles:\n",
    "    hrefs = [] \n",
    "    posts[i] = []\n",
    "  #  driver.get(handles[i])\n",
    "\n",
    "    p = driver.find_elements_by_xpath(\"//div[@class = 'v1Nh3 kIKUG  _bz0w']\") \n",
    "    for post in p:\n",
    "        link = post.find_element_by_tag_name('a').get_attribute('href')\n",
    "        hrefs.append(link)\n",
    "        if len(hrefs) == 10:\n",
    "            break\n",
    "\n",
    "    for post in hrefs:\n",
    "        driver.get(post)\n",
    "        posts[i].append(driver.find_element_by_xpath(\"//div[@class = 'C4VMK']\").text)"
   ]
  },
  {
   "cell_type": "markdown",
   "metadata": {},
   "source": [
    "2. Prepare a list of all words used in all the scraped posts and calculate the frequency of each word.\n"
   ]
  },
  {
   "cell_type": "code",
   "execution_count": 79,
   "metadata": {},
   "outputs": [],
   "source": [
    "def cleanString(string):\n",
    "    string = re.sub('((www\\.[^\\s]+)|(https?://[^\\s]+))','',string) #remove links\n",
    "    string = re.sub('@[^\\s]+','',string) #remove usernames\n",
    "    string = re.sub('\\\\n',' ',string) #remove newline chars\n",
    "    string = string.encode('ascii', 'ignore').decode('ascii') #remove emojis\n",
    "    string = re.sub('[0-9//]+','',string) # remove numbers and /\n",
    "    string = re.sub('[\\s]+[smhdw][\\s]+',' ', string) # remove remaining timestamp after numbers have been removed\n",
    "    string = re.sub('[\\s]+', ' ', string) #remove additional whitespaces\n",
    "    string = string.strip()\n",
    "    return string"
   ]
  },
  {
   "cell_type": "markdown",
   "metadata": {},
   "source": [
    "3. Create a csv file with two columns : the word and its frequency\n"
   ]
  },
  {
   "cell_type": "code",
   "execution_count": 80,
   "metadata": {},
   "outputs": [],
   "source": [
    "# Prepare a list of all words used in all the scraped posts and calculate the frequency of each word.\n",
    "all_words = \"\"\n",
    "for handle in posts:\n",
    "    posts_list = posts[handle]\n",
    "    for post in posts_list:\n",
    "        all_words+=\" \"+post        \n",
    "\n",
    "all_words = cleanString(all_words)\n",
    "words_list = [word for word in re.split(' |, |\\. |\\? |! |:',all_words) if word!=''] #split string into words using punctuators as separators and remove null strings\n",
    "\n",
    "fdist = FreqDist(words_list) # to find distribution or frequency of words\n",
    "#fdist.most_common(50)\n",
    "word_distribution = dict(fdist) #convert FreqDist object into python dict\n",
    "word_distribution = {i:[k,word_distribution[k]] for i,k in enumerate(word_distribution)}\n",
    "df = pd.DataFrame.from_dict(word_distribution,columns=['Word','Frequency'],orient='index') # Create dataframe out of dict\n",
    "\n",
    "df.to_csv('FrequencyDist.csv',index = False) #create required csv files"
   ]
  },
  {
   "cell_type": "code",
   "execution_count": 81,
   "metadata": {},
   "outputs": [
    {
     "data": {
      "text/html": [
       "<div>\n",
       "<style scoped>\n",
       "    .dataframe tbody tr th:only-of-type {\n",
       "        vertical-align: middle;\n",
       "    }\n",
       "\n",
       "    .dataframe tbody tr th {\n",
       "        vertical-align: top;\n",
       "    }\n",
       "\n",
       "    .dataframe thead th {\n",
       "        text-align: right;\n",
       "    }\n",
       "</style>\n",
       "<table border=\"1\" class=\"dataframe\">\n",
       "  <thead>\n",
       "    <tr style=\"text-align: right;\">\n",
       "      <th></th>\n",
       "      <th>WORD</th>\n",
       "      <th>FREQUENCY</th>\n",
       "    </tr>\n",
       "  </thead>\n",
       "  <tbody>\n",
       "    <tr>\n",
       "      <td>0</td>\n",
       "      <td>0</td>\n",
       "      <td>[foodiebliss, 22]</td>\n",
       "    </tr>\n",
       "    <tr>\n",
       "      <td>1</td>\n",
       "      <td>1</td>\n",
       "      <td>[My, 3]</td>\n",
       "    </tr>\n",
       "    <tr>\n",
       "      <td>2</td>\n",
       "      <td>2</td>\n",
       "      <td>[favourite, 9]</td>\n",
       "    </tr>\n",
       "    <tr>\n",
       "      <td>3</td>\n",
       "      <td>3</td>\n",
       "      <td>[Place, 3]</td>\n",
       "    </tr>\n",
       "    <tr>\n",
       "      <td>4</td>\n",
       "      <td>4</td>\n",
       "      <td>[is, 10]</td>\n",
       "    </tr>\n",
       "    <tr>\n",
       "      <td>...</td>\n",
       "      <td>...</td>\n",
       "      <td>...</td>\n",
       "    </tr>\n",
       "    <tr>\n",
       "      <td>182</td>\n",
       "      <td>182</td>\n",
       "      <td>[#coffeelover, 1]</td>\n",
       "    </tr>\n",
       "    <tr>\n",
       "      <td>183</td>\n",
       "      <td>183</td>\n",
       "      <td>[#indtagram, 1]</td>\n",
       "    </tr>\n",
       "    <tr>\n",
       "      <td>184</td>\n",
       "      <td>184</td>\n",
       "      <td>[#purple, 1]</td>\n",
       "    </tr>\n",
       "    <tr>\n",
       "      <td>185</td>\n",
       "      <td>185</td>\n",
       "      <td>[#delhi, 1]</td>\n",
       "    </tr>\n",
       "    <tr>\n",
       "      <td>186</td>\n",
       "      <td>186</td>\n",
       "      <td>[w, 1]</td>\n",
       "    </tr>\n",
       "  </tbody>\n",
       "</table>\n",
       "<p>187 rows × 2 columns</p>\n",
       "</div>"
      ],
      "text/plain": [
       "     WORD          FREQUENCY\n",
       "0       0  [foodiebliss, 22]\n",
       "1       1            [My, 3]\n",
       "2       2     [favourite, 9]\n",
       "3       3         [Place, 3]\n",
       "4       4           [is, 10]\n",
       "..    ...                ...\n",
       "182   182  [#coffeelover, 1]\n",
       "183   183    [#indtagram, 1]\n",
       "184   184       [#purple, 1]\n",
       "185   185        [#delhi, 1]\n",
       "186   186             [w, 1]\n",
       "\n",
       "[187 rows x 2 columns]"
      ]
     },
     "execution_count": 81,
     "metadata": {},
     "output_type": "execute_result"
    }
   ],
   "source": [
    "df = pd.DataFrame(list(zip(word_distribution.keys(), word_distribution.values())), columns = ['WORD', 'FREQUENCY'])\n",
    "df"
   ]
  },
  {
   "cell_type": "markdown",
   "metadata": {},
   "source": [
    "4. Now, find the hashtags that were most popular among these bloggers\n"
   ]
  },
  {
   "cell_type": "code",
   "execution_count": 82,
   "metadata": {},
   "outputs": [
    {
     "name": "stdout",
     "output_type": "stream",
     "text": [
      "    Hashtag       No of times used   \n",
      "----------------------------------\n",
      "#chandigarh                 38         \n",
      "#potd                       28         \n",
      "#mohali                     23         \n",
      "#punjab                     21         \n",
      "#chandigarhblogger          14         \n",
      "#pictures                   14         \n",
      "#lfl                        12         \n",
      "#chandigarhfoodblogger          11         \n",
      "#chandigarhdiaries          11         \n",
      "#foodies                    11         \n",
      "#selfies                    9          \n",
      "#me                         8          \n",
      "#ootd                       8          \n",
      "#kbye                       8          \n",
      "#happy                      8          \n",
      "#punjabi                    7          \n",
      "#delhi_gram                 7          \n",
      "#delhibloggers              7          \n",
      "#goodvibesonly              7          \n",
      "#goodtimes                  6          \n",
      "#chandigarhfoodies          6          \n",
      "#reelitfeelit               6          \n",
      "#reelsinstagram             6          \n",
      "#foodstagram                6          \n",
      "#likeforlike                6          \n",
      "#delhifoodblogger           5          \n",
      "#reels                      5          \n",
      "#videos                     5          \n",
      "#smile                      5          \n",
      "#instachandigarh            4          \n",
      "#delhifashionblogger          4          \n",
      "#photography                3          \n",
      "#shotoniphone               3          \n",
      "#chocolate                  3          \n",
      "#yummy                      3          \n",
      "#pinkhair                   3          \n",
      "#selfie                     3          \n",
      "#instadaily                 3          \n",
      "#pictures#photooftheday          3          \n",
      "#purpke                     3          \n",
      "#pose                       3          \n",
      "#summer                     3          \n",
      "#delhifood                  3          \n",
      "#igers                      3          \n",
      "#posts                      3          \n",
      "#foodbloggers               3          \n",
      "#lunch                      3          \n",
      "#chilling                   3          \n",
      "#foodi                      3          \n",
      "#bloggers                   3          \n",
      "#chill                      3          \n",
      "#chandigarh_diaries          3          \n",
      "#jwmarriott                 3          \n",
      "#foodporn                   3          \n",
      "#happyandblessed            2          \n",
      "#favcolor                   2          \n",
      "#goodmorning                2          \n",
      "#purole                     2          \n",
      "#licac                      2          \n",
      "#happycolors                2          \n",
      "#blessed                    2          \n",
      "#chandigarhfoodbloggers          2          \n",
      "#adidasoriginals            2          \n",
      "#food                       2          \n",
      "#foodb                      2          \n",
      "#delhifoodie                2          \n"
     ]
    }
   ],
   "source": [
    "hashtags = {} #dictionary containing hashtags and their frequency\n",
    "for word in words_list:\n",
    "    if word[0]=='#':\n",
    "        hashtags[word]=hashtags.get(word,0)+1\n",
    "\n",
    "hashtags = sorted(hashtags.items(),key=lambda x: x[1],reverse = True)\n",
    "print(\"Hashtag\".center(15),\"No of times used\".center(20),\"\\n----------------------------------\")\n",
    "for t in hashtags:\n",
    "    if t[1]==1:\n",
    "        break\n",
    "    print(t[0].ljust(18),str(t[1]).center(20))"
   ]
  },
  {
   "cell_type": "markdown",
   "metadata": {},
   "source": [
    "5. Plot a Pie Chart of the top 5 hashtags obtained and the number of times they were used by these bloggers in the scraped posts."
   ]
  },
  {
   "cell_type": "code",
   "execution_count": 83,
   "metadata": {},
   "outputs": [
    {
     "data": {
      "image/png": "[encoded data removed]",
      "text/plain": [
       "<Figure size 360x360 with 1 Axes>"
      ]
     },
     "metadata": {},
     "output_type": "display_data"
    }
   ],
   "source": [
    "plt.figure(figsize=(5,5))\n",
    "explode = [0 for i in range(5)]\n",
    "colors = ['red', 'blue', 'yellow','green','orange']\n",
    "explode[np.array([t[1] for t in hashtags]).argmax()]=0.1\n",
    "plt.title(\"Top 5 hashtags\",fontsize = 12)\n",
    "plt.pie([t[1]for t in hashtags[:5]], labels = [t[0]for t in hashtags[:5]],autopct=\"%.2f%%\", \n",
    "        explode = explode, shadow=True, colors = colors)\n",
    "plt.show()"
   ]
  },
  {
   "cell_type": "markdown",
   "metadata": {},
   "source": [
    "## 3. You need to also calculate average followers : likes ratio for the obtained handles. \n",
    "Followers : Likes ratio is calculated as follows:\n"
   ]
  },
  {
   "cell_type": "markdown",
   "metadata": {},
   "source": [
    "1. Find out the likes of the top 10 posts of the 5 handles obtained earlier.\n"
   ]
  },
  {
   "cell_type": "code",
   "execution_count": 84,
   "metadata": {},
   "outputs": [],
   "source": [
    "def follower_like_ratio(driver):\n",
    "    wait = WebDriverWait(driver, 5)\n",
    "    #Try locating the followers button to get the total number of followers\n",
    "    try : \n",
    "        followers_ele = wait.until(EC.presence_of_all_elements_located((By.CLASS_NAME,'g47SY')))[1]\n",
    "        followers = int(followers_ele.get_attribute('title').replace(',' , ''))  \n",
    "    except Exception as e:     \n",
    "        print('Cant access followers')\n",
    "    \n",
    "    #Open the first post\n",
    "    try :\n",
    "        li = wait.until(EC.presence_of_element_located((By.CLASS_NAME,'v1Nh3')))\n",
    "        li.click()\n",
    "    except Exception as e:\n",
    "        print(\"Cant Open Post\") \n",
    "        return\n",
    "    \n",
    "    #Create a list to keep an account of like of each post\n",
    "    lst = []\n",
    "    \n",
    "    for i in range(10) :\n",
    "        try : \n",
    "            #Get the element which shows the number of likes\n",
    "            temp = wait.until(EC.presence_of_element_located((By.CLASS_NAME,'Nm9Fw')))\n",
    "            if temp.text == '' :\n",
    "                temp = driver.find_elements_by_class_name('Nm9Fw')[-1]\n",
    "       \n",
    "            #In case of videos, likes are not visible.\n",
    "            #Hence we first need to click on views then scrape the number of likes\n",
    "            #Then click on outside again so that you can click on next button \n",
    "        \n",
    "        except Exception as e:     \n",
    "            try : \n",
    "                # Locating the views \n",
    "                driver.find_element_by_class_name('vcOH2').click()\n",
    "                #getting likes\n",
    "                temp = wait.until(EC.presence_of_element_located((By.CLASS_NAME,'vJRqr')))  \n",
    "            except Exception as e:\n",
    "                print(\"Loading error\")\n",
    "                return\n",
    "      \n",
    "        #Calculating likes and appending to the list\n",
    "        likes = int(temp.text.split()[0].replace(',',''))\n",
    "        lst.append(likes)\n",
    "       \n",
    "        \n",
    "        #click on next button, in case of videos, next button will not be visible immidiately, first we need to click outside\n",
    "        try : \n",
    "            driver.find_element_by_class_name('coreSpriteRightPaginationArrow').click()\n",
    "        \n",
    "        except Exception as e:\n",
    "            try : \n",
    "                #click on outside\n",
    "                driver.find_element_by_class_name('QhbhU').click() \n",
    "                #try to click on next button again\n",
    "                nxt = wait.until(EC.presence_of_element_located((By.CLASS_NAME,'coreSpriteRightPaginationArrow')))\n",
    "                nxt.click()\n",
    "            except Exception as e:\n",
    "                print(\"No more posts\")\n",
    "                break     \n",
    "    \n",
    "    #calculate likes : followers ratio\n",
    "    sum_likes = sum(lst)\n",
    "    print(sum_likes) \n",
    "    return sum_likes"
   ]
  },
  {
   "cell_type": "code",
   "execution_count": null,
   "metadata": {},
   "outputs": [],
   "source": [
    "kaha pe hai prob ?"
   ]
  },
  {
   "cell_type": "code",
   "execution_count": 85,
   "metadata": {},
   "outputs": [
    {
     "name": "stdout",
     "output_type": "stream",
     "text": [
      "yourfoodlab likes on first 10 posts:\n",
      "298473\n",
      "foodfoodtv likes on first 10 posts:\n",
      "2918\n",
      "food_lunatic likes on first 10 posts:\n",
      "18066\n",
      "foodfoododo likes on first 10 posts:\n",
      "1771\n",
      "foodiebliss09 likes on first 10 posts:\n",
      "3016\n"
     ]
    }
   ],
   "source": [
    "for i in handles:\n",
    "        driver.get('https://www.instagram.com/' + str(i))\n",
    "        time.sleep(3)\n",
    "        print(i, 'likes on first 10 posts:')\n",
    "        follower_like_ratio(driver)"
   ]
  },
  {
   "cell_type": "markdown",
   "metadata": {},
   "source": [
    "2. Calculate the average likes for a handle.\n"
   ]
  },
  {
   "cell_type": "code",
   "execution_count": 86,
   "metadata": {},
   "outputs": [],
   "source": [
    "def follower_like_ratio(driver):\n",
    "    wait = WebDriverWait(driver, 5)\n",
    "    #Try locating the followers button to get the total number of followers\n",
    "    try : \n",
    "        followers_ele = wait.until(EC.presence_of_all_elements_located((By.CLASS_NAME,'g47SY')))[1]\n",
    "        followers = int(followers_ele.get_attribute('title').replace(',' , ''))  \n",
    "    except Exception as e:     \n",
    "        print('Cant access followers')\n",
    "    \n",
    "    #Open the first post\n",
    "    try :\n",
    "        li = wait.until(EC.presence_of_element_located((By.CLASS_NAME,'v1Nh3')))\n",
    "        li.click()\n",
    "    except Exception as e:\n",
    "        print(\"Cant Open Post\") \n",
    "        return\n",
    "    \n",
    "    #Create a list to keep an account of like of each post\n",
    "    lst = []\n",
    "    \n",
    "    for i in range(10) :\n",
    "        try : \n",
    "            #Get the element which shows the number of likes\n",
    "            temp = wait.until(EC.presence_of_element_located((By.CLASS_NAME,'Nm9Fw')))\n",
    "            if temp.text == '' :\n",
    "                temp = driver.find_elements_by_class_name('Nm9Fw')[-1]\n",
    "       \n",
    "            #In case of videos, likes are not visible.\n",
    "            #Hence we first need to click on views then scrape the number of likes\n",
    "            #Then click on outside again so that you can click on next button \n",
    "        \n",
    "        except Exception as e:     \n",
    "            try : \n",
    "                # Locating the views \n",
    "                driver.find_element_by_class_name('vcOH2').click()\n",
    "                #getting likes\n",
    "                temp = wait.until(EC.presence_of_element_located((By.CLASS_NAME,'vJRqr')))  \n",
    "            except Exception as e:\n",
    "                print(\"Loading error\")\n",
    "                return\n",
    "      \n",
    "        #Calculating likes and appending to the list\n",
    "        likes = int(temp.text.split()[0].replace(',',''))\n",
    "        lst.append(likes)\n",
    "       \n",
    "        \n",
    "        #click on next button, in case of videos, next button will not be visible immidiately, first we need to click outside\n",
    "        try : \n",
    "            driver.find_element_by_class_name('coreSpriteRightPaginationArrow').click()\n",
    "        \n",
    "        except Exception as e:\n",
    "            try : \n",
    "                #click on outside\n",
    "                driver.find_element_by_class_name('QhbhU').click() \n",
    "                #try to click on next button again\n",
    "                nxt = wait.until(EC.presence_of_element_located((By.CLASS_NAME,'coreSpriteRightPaginationArrow')))\n",
    "                nxt.click()\n",
    "            except Exception as e:\n",
    "                print(\"No more posts\")\n",
    "                break     \n",
    "    \n",
    "    #calculate likes : followers ratio\n",
    "    avg_likes = sum(lst)/len(lst)\n",
    "    print(avg_likes) \n",
    "    ratio = followers/avg_likes\n",
    "    return ratio"
   ]
  },
  {
   "cell_type": "code",
   "execution_count": 87,
   "metadata": {},
   "outputs": [
    {
     "name": "stdout",
     "output_type": "stream",
     "text": [
      "yourfoodlab average likes:\n",
      "29855.2\n",
      "foodfoodtv average likes:\n",
      "291.8\n",
      "food_lunatic average likes:\n",
      "1808.9\n",
      "foodfoododo average likes:\n",
      "177.1\n",
      "foodiebliss09 average likes:\n",
      "301.7\n"
     ]
    }
   ],
   "source": [
    "for j in handles:\n",
    "        driver.get('https://www.instagram.com/' + str(j))\n",
    "        time.sleep(3)\n",
    "        print(j, 'average likes:')\n",
    "        follower_like_ratio(driver)"
   ]
  },
  {
   "cell_type": "markdown",
   "metadata": {},
   "source": [
    "3. Divide the average likes obtained from the number of followers of the handle to get the average followers:like ratio of each handle.\n"
   ]
  },
  {
   "cell_type": "code",
   "execution_count": 93,
   "metadata": {},
   "outputs": [],
   "source": [
    "def all_pages_ratio(insta_handles) :\n",
    "    handle_ratio = {} # making dict for name and its ratio\n",
    "    for j in insta_handles : # visiting each handle\n",
    "        driver.get('https://www.instagram.com/' + str(j))\n",
    "        time.sleep(3)\n",
    "        handle_ratio[str(j)] = follower_like_ratio(driver) # storing ratio of each handle along with it's name\n",
    "        \n",
    "    return handle_ratio"
   ]
  },
  {
   "cell_type": "code",
   "execution_count": 94,
   "metadata": {},
   "outputs": [
    {
     "name": "stdout",
     "output_type": "stream",
     "text": [
      "29887.6\n",
      "292.1\n",
      "1818.6\n",
      "177.9\n",
      "301.7\n"
     ]
    },
    {
     "data": {
      "text/plain": [
       "{'yourfoodlab': 46.49051780671583,\n",
       " 'foodfoodtv': 843.2386169120164,\n",
       " 'food_lunatic': 50.965577917079074,\n",
       " 'foodfoododo': 34.997189432265316,\n",
       " 'foodiebliss09': 54.19622141199868}"
      ]
     },
     "execution_count": 94,
     "metadata": {},
     "output_type": "execute_result"
    }
   ],
   "source": [
    "handle_ratio = all_pages_ratio(handles)\n",
    "handle_ratio\n",
    "# ye theek solve kiya hai? aapne git waale se verify kia ? yesek baar open krna vo "
   ]
  },
  {
   "cell_type": "markdown",
   "metadata": {},
   "source": [
    "4. Create a bar graph to depict the above obtained information."
   ]
  },
  {
   "cell_type": "code",
   "execution_count": 103,
   "metadata": {
    "scrolled": true
   },
   "outputs": [
    {
     "data": {
      "image/png": "[encoded data removed]",
      "text/plain": [
       "<Figure size 800x500 with 1 Axes>"
      ]
     },
     "metadata": {},
     "output_type": "display_data"
    }
   ],
   "source": [
    "handle_name = handle_ratio.keys() # names of the handles\n",
    "handle_like_ratio = handle_ratio.values() # their Follower : Like ratio\n",
    "\n",
    "plt.figure(num=None, figsize=(8, 5), dpi=100, facecolor='w', edgecolor='green') # for size of graph\n",
    "plt.grid()\n",
    "plt.bar(handle_name, handle_like_ratio, color = 'red')\n",
    "plt.title('Top 5 Food Insta Handles vs. Average Followers:Like Ratio')\n",
    "plt.xlabel('Food Insta Handles Names', size = 12)\n",
    "plt.ylabel('Ratio', size = 12)\n",
    "plt.xticks(rotation = 40)\n",
    "plt.show()"
   ]
  },
  {
   "cell_type": "code",
   "execution_count": 105,
   "metadata": {},
   "outputs": [],
   "source": [
    "driver.quit()"
   ]
  },
  {
   "cell_type": "code",
   "execution_count": null,
   "metadata": {},
   "outputs": [],
   "source": []
  }
 ],
 "metadata": {
  "kernelspec": {
   "display_name": "Python 3",
   "language": "python",
   "name": "python3"
  },
  "language_info": {
   "codemirror_mode": {
    "name": "ipython",
    "version": 3
   },
   "file_extension": ".py",
   "mimetype": "text/x-python",
   "name": "python",
   "nbconvert_exporter": "python",
   "pygments_lexer": "ipython3",
   "version": "3.8.3"
  }
 },
 "nbformat": 4,
 "nbformat_minor": 2
}
